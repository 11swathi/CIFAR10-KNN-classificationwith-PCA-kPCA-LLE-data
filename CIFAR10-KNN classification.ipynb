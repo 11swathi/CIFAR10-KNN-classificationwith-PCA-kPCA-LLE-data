{
  "nbformat": 4,
  "nbformat_minor": 0,
  "metadata": {
    "colab": {
      "provenance": []
    },
    "kernelspec": {
      "name": "python3",
      "display_name": "Python 3"
    },
    "language_info": {
      "name": "python"
    }
  },
  "cells": [
    {
      "cell_type": "markdown",
      "source": [
        "### Loading the Data"
      ],
      "metadata": {
        "id": "GOd4sqB9Xn9e"
      }
    },
    {
      "cell_type": "code",
      "source": [
        "from keras.datasets import cifar10\n",
        "import numpy as np\n",
        "import seaborn as sns\n",
        "import matplotlib.pyplot as plt\n",
        "from sklearn.model_selection import train_test_split\n",
        "from sklearn.preprocessing import StandardScaler\n",
        "from sklearn.neighbors import KNeighborsClassifier\n",
        "from sklearn.decomposition import PCA, KernelPCA\n",
        "from sklearn.manifold import LocallyLinearEmbedding\n",
        "from sklearn.metrics import accuracy_score, f1_score, confusion_matrix\n",
        "import timeit\n",
        "from sklearn.metrics import classification_report\n",
        "\n",
        "# Load CIFAR-10 dataset\n",
        "(x_train, y_train), (x_test, y_test) = cifar10.load_data()\n",
        "\n",
        "class_names = ['airplane', 'automobile', 'bird', 'cat', 'deer', 'dog', 'frog', 'horse', 'ship', 'truck']\n",
        "\n",
        "# Combine train and test datasets\n",
        "x_combined = np.concatenate((x_train, x_test), axis=0)\n",
        "y_combined = np.concatenate((y_train, y_test), axis=0)\n",
        "\n",
        "# Print the shapes of data\n",
        "print(\"Shape of x_combined:\", x_combined.shape)\n",
        "print(\"Shape of y_combined:\", y_combined.shape)\n",
        "\n",
        "# Plot one image from each class\n",
        "plt.figure(figsize=(10, 5))\n",
        "for i in range(len(class_names)):\n",
        "    class_indices = np.where(y_combined.flatten() == i)[0]\n",
        "    image_index = class_indices[0]\n",
        "    image = x_combined[image_index]\n",
        "    plt.subplot(2, 5, i+1)\n",
        "    plt.imshow(image)\n",
        "    plt.title(class_names[i])\n",
        "    plt.axis('off')\n",
        "plt.show()\n"
      ],
      "metadata": {
        "id": "NSOR0Qm8XAlC"
      },
      "execution_count": null,
      "outputs": []
    },
    {
      "cell_type": "code",
      "source": [
        "# Normalize pixel values to [0, 1]\n",
        "x_combined = x_combined.astype('float32') / 255.0\n",
        "\n",
        "# Reshape the data\n",
        "x_combined = x_combined.reshape(x_combined.shape[0], -1)\n",
        "\n",
        "# Print the shape of the data\n",
        "print(\"Shape of x_combined:\", x_combined.shape)\n",
        "print(\"Shape of y_combined:\", y_combined.shape)\n",
        "\n",
        "# Split the data into train, validation, and test sets using stratified sampling\n",
        "x_train, x_temp, y_train, y_temp = train_test_split(x_combined, y_combined, test_size=0.2, random_state=42, stratify=y_combined)\n",
        "x_val, x_test, y_val, y_test = train_test_split(x_temp, y_temp, test_size=0.5, random_state=42, stratify=y_temp)\n",
        "\n",
        "# Flatten the target variables\n",
        "y_train = y_train.ravel()\n",
        "y_val = y_val.ravel()\n",
        "y_test = y_test.ravel()"
      ],
      "metadata": {
        "id": "DzaSy6_bX5hL"
      },
      "execution_count": null,
      "outputs": []
    },
    {
      "cell_type": "markdown",
      "source": [
        "### Performing KNN classifiaction on Raw Data"
      ],
      "metadata": {
        "id": "1xkCn68cYHRE"
      }
    },
    {
      "cell_type": "code",
      "source": [
        "# 1. KNN classification for Raw Data\n",
        "\n",
        "start_time1 = timeit.default_timer()\n",
        "# Initialize K-Nearest Neighbors classifier\n",
        "knn = KNeighborsClassifier(n_neighbors=20)\n",
        "\n",
        "# Train the classifier\n",
        "knn.fit(x_train, y_train)\n",
        "\n",
        "# Predict on validation set\n",
        "y_val_pred = knn.predict(x_val)\n",
        "\n",
        "# Calculate accuracy and F1 score on validation set\n",
        "val_accuracy = accuracy_score(y_val, y_val_pred)\n",
        "val_f1_score = f1_score(y_val, y_val_pred, average='macro')\n",
        "print(\"Validation Accuracy: {:.2f}%\".format(val_accuracy * 100))\n",
        "print(\"Validation F1 Score: {:.2f}\".format(val_f1_score))\n",
        "\n",
        "# Predict on test set\n",
        "y_test_pred = knn.predict(x_test)\n",
        "\n",
        "# Calculate accuracy and F1 score on test set\n",
        "test_accuracy = accuracy_score(y_test, y_test_pred)\n",
        "test_f1_score = f1_score(y_test, y_test_pred, average='macro')\n",
        "print(\"Test Accuracy: {:.2f}%\".format(test_accuracy * 100))\n",
        "print(\"Test F1 Score: {:.2f}\".format(test_f1_score))\n",
        "\n",
        "rawdata_time = timeit.default_timer() - start_time1\n",
        "print(\"Execution time for Raw data: {:.2f} seconds\".format(rawdata_time))"
      ],
      "metadata": {
        "id": "KTBJ9t79X_8S"
      },
      "execution_count": null,
      "outputs": []
    },
    {
      "cell_type": "code",
      "source": [
        "# Class-wise accuracy\n",
        "# For validation set\n",
        "class_accuracy_val = []\n",
        "for i in range(len(class_names)):\n",
        "    class_indices_val = np.where(y_val == i)[0]\n",
        "    class_accuracy_val.append(accuracy_score(y_val[class_indices_val], y_val_pred[class_indices_val]))\n",
        "\n",
        "# Print class-wise accuracy on validation set\n",
        "print(\"Class-wise Accuracy on Validation Set:\")\n",
        "for i, class_name in enumerate(class_names):\n",
        "    print(\"{}: {:.2f}%\".format(class_name, class_accuracy_val[i] * 100))\n",
        "\n",
        "# For test set\n",
        "class_accuracy_test = []\n",
        "for i in range(len(class_names)):\n",
        "    class_indices_test = np.where(y_test == i)[0]\n",
        "    class_accuracy_test.append(accuracy_score(y_test[class_indices_test], y_test_pred[class_indices_test]))\n",
        "\n",
        "# Print class-wise accuracy on test set\n",
        "print(\"\\nClass-wise Accuracy on Test Set:\")\n",
        "for i, class_name in enumerate(class_names):\n",
        "    print(\"{}: {:.2f}%\".format(class_name, class_accuracy_test[i] * 100))\n",
        "\n",
        "# Print classification report for validation set\n",
        "print(\"Classification Report for Validation Set:\")\n",
        "print(classification_report(y_val, y_val_pred, target_names=class_names))\n",
        "\n",
        "# Print classification report for test set\n",
        "print(\"Classification Report for Test Set:\")\n",
        "print(classification_report(y_test, y_test_pred, target_names=class_names))\n"
      ],
      "metadata": {
        "id": "UcBO3eOPcRwm"
      },
      "execution_count": null,
      "outputs": []
    },
    {
      "cell_type": "markdown",
      "source": [
        "### Finding the best `n_component` for PCA and kPCA"
      ],
      "metadata": {
        "id": "gN1AQ9WSYqKA"
      }
    },
    {
      "cell_type": "code",
      "source": [
        "# Finding optimal n_components\n",
        "# Apply PCA\n",
        "pca = PCA(n_components=3072)\n",
        "pca.fit(x_train)\n",
        "\n",
        "# Calculate cumulative explained variance ratio\n",
        "cumulative_variance_ratio = np.cumsum(pca.explained_variance_ratio_)\n",
        "\n",
        "# Plot cumulative explained variance ratio\n",
        "plt.figure(figsize=(10, 6))\n",
        "plt.plot(range(1, len(cumulative_variance_ratio) + 1), cumulative_variance_ratio, marker='o', linestyle='-')\n",
        "plt.xlabel('Number of Components')\n",
        "plt.ylabel('Cumulative Explained Variance Ratio')\n",
        "plt.title('Cumulative Explained Variance Ratio vs. Number of Components')\n",
        "plt.grid(True)\n",
        "plt.show()\n",
        "\n",
        "# Plot cumulative explained variance ratio for components from 100 to 400\n",
        "plt.figure(figsize=(10, 6))\n",
        "plt.plot(range(100, 401), cumulative_variance_ratio[99:400], marker='o', linestyle='-')\n",
        "plt.xlabel('Number of Components')\n",
        "plt.ylabel('Cumulative Explained Variance Ratio')\n",
        "plt.title('Cumulative Explained Variance Ratio vs. Number of Components (Components 100-400)')\n",
        "plt.grid(True)\n",
        "plt.show()\n",
        "\n",
        "# Plot cumulative explained variance ratio for components from 200 to 250\n",
        "plt.figure(figsize=(10, 6))\n",
        "plt.plot(range(200, 251), cumulative_variance_ratio[199:250], marker='o', linestyle='-')\n",
        "plt.xlabel('Number of Components')\n",
        "plt.ylabel('Cumulative Explained Variance Ratio')\n",
        "plt.title('Cumulative Explained Variance Ratio vs. Number of Components (Components 200-250)')\n",
        "plt.grid(True)\n",
        "plt.show()"
      ],
      "metadata": {
        "id": "RKkruECtYyXf"
      },
      "execution_count": null,
      "outputs": []
    },
    {
      "cell_type": "code",
      "source": [
        "# Plot for Accuracy vs Number of components\n",
        "# For components from 200-250\n",
        "components_range = range(200, 251)\n",
        "\n",
        "accuracy_values = []\n",
        "\n",
        "for n_components in components_range:\n",
        "    # Apply PCA with the current number of components\n",
        "    pca = PCA(n_components=n_components)\n",
        "    x_train_pca = pca.fit_transform(x_train)\n",
        "    x_val_pca = pca.transform(x_val)\n",
        "\n",
        "    # Initialize and train the KNN classifier\n",
        "    knn = KNeighborsClassifier(n_neighbors=20)\n",
        "    knn.fit(x_train_pca, y_train)\n",
        "\n",
        "    # Predict on the validation set\n",
        "    y_val_pred = knn.predict(x_val_pca)\n",
        "\n",
        "    # Calculate accuracy and append\n",
        "    accuracy = accuracy_score(y_val, y_val_pred)\n",
        "    accuracy_values.append(accuracy)\n",
        "\n",
        "# Plot accuracy vs. number of components\n",
        "plt.figure(figsize=(10, 6))\n",
        "plt.plot(components_range, accuracy_values, marker='o', linestyle='-')\n",
        "plt.xlabel('Number of Components')\n",
        "plt.ylabel('Accuracy')\n",
        "plt.title('Accuracy vs. Number of Components (Components 200-250)')\n",
        "plt.grid(True)\n",
        "plt.show()\n"
      ],
      "metadata": {
        "id": "_wLkgkvqZUAy"
      },
      "execution_count": null,
      "outputs": []
    },
    {
      "cell_type": "markdown",
      "source": [
        "### 2-D representation of Raw data"
      ],
      "metadata": {
        "id": "xFkjwk114vG3"
      }
    },
    {
      "cell_type": "code",
      "source": [
        "# Plot 2-D representation of raw data\n",
        "plt.figure(figsize=(8, 6))\n",
        "plt.scatter(x_train[:, 0], x_train[:, 1], c=y_train, cmap='viridis', s=10)\n",
        "plt.title('2-D Representation of Raw CIFAR-10 Data')\n",
        "plt.xlabel('Principal Component 1')\n",
        "plt.ylabel('Principal Component 2')\n",
        "plt.colorbar(label='Class')\n",
        "plt.grid(True)\n",
        "plt.show()"
      ],
      "metadata": {
        "id": "R5RD3e344v0i"
      },
      "execution_count": null,
      "outputs": []
    },
    {
      "cell_type": "markdown",
      "source": [
        "### Performing KNN classification on PCA transformed data"
      ],
      "metadata": {
        "id": "4GILangsZffI"
      }
    },
    {
      "cell_type": "code",
      "source": [
        "# 2. KNN classification with PCA\n",
        "\n",
        "# Apply PCA\n",
        "start_time2 = timeit.default_timer()\n",
        "pca = PCA(n_components=227)  # 227 number of components\n",
        "x_train_pca = pca.fit_transform(x_train)\n",
        "x_val_pca = pca.transform(x_val)\n",
        "x_test_pca = pca.transform(x_test)\n",
        "\n",
        "# Initialize KNN classifier\n",
        "knn = KNeighborsClassifier(n_neighbors=20)\n",
        "\n",
        "# Train the classifier\n",
        "knn.fit(x_train_pca, y_train)\n",
        "\n",
        "# Predict on validation set\n",
        "y_val_pred = knn.predict(x_val_pca)\n",
        "\n",
        "# Calculate accuracy and F1 score on validation set\n",
        "val_accuracy = accuracy_score(y_val, y_val_pred)\n",
        "val_f1_score = f1_score(y_val, y_val_pred, average='macro')\n",
        "print(\"Validation Accuracy: {:.2f}%\".format(val_accuracy * 100))\n",
        "print(\"Test F1 Score: {:.2f}\".format(test_f1_score))\n",
        "\n",
        "# Predict on test set\n",
        "y_test_pred = knn.predict(x_test_pca)\n",
        "\n",
        "# Calculate accuracy and F1 score on test set\n",
        "test_accuracy = accuracy_score(y_test, y_test_pred)\n",
        "test_f1_score = f1_score(y_test, y_test_pred, average='macro')\n",
        "print(\"Test Accuracy: {:.2f}%\".format(test_accuracy * 100))\n",
        "print(\"Test F1 Score: {:.2f}\".format(test_f1_score))\n",
        "\n",
        "pcadata_time = timeit.default_timer() - start_time2\n",
        "print(\"Execution time for PCA data: {:.2f} seconds\".format(pcadata_time))\n"
      ],
      "metadata": {
        "id": "IDV4RnZDZoZs"
      },
      "execution_count": null,
      "outputs": []
    },
    {
      "cell_type": "code",
      "source": [
        "# Class-wise accuracy\n",
        "# For validation set\n",
        "class_accuracy_val = []\n",
        "for i in range(len(class_names)):\n",
        "    class_indices_val = np.where(y_val == i)[0]\n",
        "    class_accuracy_val.append(accuracy_score(y_val[class_indices_val], y_val_pred[class_indices_val]))\n",
        "\n",
        "# Print class-wise accuracy on validation set\n",
        "print(\"Class-wise Accuracy on Validation Set:\")\n",
        "for i, class_name in enumerate(class_names):\n",
        "    print(\"{}: {:.2f}%\".format(class_name, class_accuracy_val[i] * 100))\n",
        "\n",
        "# For test set\n",
        "class_accuracy_test = []\n",
        "for i in range(len(class_names)):\n",
        "    class_indices_test = np.where(y_test == i)[0]\n",
        "    class_accuracy_test.append(accuracy_score(y_test[class_indices_test], y_test_pred[class_indices_test]))\n",
        "\n",
        "# Print class-wise accuracy on test set\n",
        "print(\"\\nClass-wise Accuracy on Test Set:\")\n",
        "for i, class_name in enumerate(class_names):\n",
        "    print(\"{}: {:.2f}%\".format(class_name, class_accuracy_test[i] * 100))\n",
        "\n",
        "# Print classification report for validation set\n",
        "print(\"Classification Report for Validation Set:\")\n",
        "print(classification_report(y_val, y_val_pred, target_names=class_names))\n",
        "\n",
        "# Print classification report for test set\n",
        "print(\"Classification Report for Test Set:\")\n",
        "print(classification_report(y_test, y_test_pred, target_names=class_names))\n"
      ],
      "metadata": {
        "id": "AbDbjAdNZsE3"
      },
      "execution_count": null,
      "outputs": []
    },
    {
      "cell_type": "markdown",
      "source": [
        "### 2-D Representation for PCA data"
      ],
      "metadata": {
        "id": "vjTa6dg3aE7M"
      }
    },
    {
      "cell_type": "code",
      "source": [
        "# Plot 2-D representation of PCA data\n",
        "plt.figure(figsize=(8, 6))\n",
        "plt.scatter(x_train_pca[:, 0], x_train_pca[:, 1], c=y_train, cmap='viridis', s=10)\n",
        "plt.title('2-D Representation of PCA Data')\n",
        "plt.xlabel('Principal Component 1')\n",
        "plt.ylabel('Principal Component 2')\n",
        "plt.colorbar(label='Class')\n",
        "plt.grid(True)\n",
        "plt.show()"
      ],
      "metadata": {
        "id": "-QocIsnqZ2UG"
      },
      "execution_count": null,
      "outputs": []
    },
    {
      "cell_type": "markdown",
      "source": [
        "### Performing KNN classification kPCA transformed data"
      ],
      "metadata": {
        "id": "LlqfP0V7akyl"
      }
    },
    {
      "cell_type": "code",
      "source": [
        "# 3. KNN classification with kPCA\n",
        "\n",
        "# Apply Kernel PCA for dimensionality reduction\n",
        "start_time3 = timeit.default_timer()\n",
        "kpca = KernelPCA(n_components=227, kernel='rbf', gamma=0.01)\n",
        "x_train_kpca = kpca.fit_transform(x_train)\n",
        "x_val_kpca = kpca.transform(x_val)\n",
        "x_test_kpca = kpca.transform(x_test)\n",
        "\n",
        "# Initialize KNN classifier\n",
        "knn = KNeighborsClassifier(n_neighbors=20)\n",
        "\n",
        "# Train the classifier\n",
        "knn.fit(x_train_kpca, y_train)\n",
        "\n",
        "# Predict on validation set\n",
        "y_val_pred = knn.predict(x_val_kpca)\n",
        "\n",
        "# Calculate accuracy and F1 score on validation set\n",
        "val_accuracy = accuracy_score(y_val, y_val_pred)\n",
        "val_f1_score = f1_score(y_val, y_val_pred, average='macro')\n",
        "print(\"Validation Accuracy: {:.2f}%\".format(val_accuracy * 100))\n",
        "print(\"Validation F1 Score: {:.2f}\".format(val_f1_score))\n",
        "\n",
        "# Predict on test set\n",
        "y_test_pred = knn.predict(x_test_kpca)\n",
        "\n",
        "# Calculate accuracy and F1 score on test set\n",
        "test_accuracy = accuracy_score(y_test, y_test_pred)\n",
        "test_f1_score = f1_score(y_test, y_test_pred, average='macro')\n",
        "print(\"Test Accuracy: {:.2f}%\".format(test_accuracy * 100))\n",
        "print(\"Test F1 Score: {:.2f}\".format(test_f1_score))\n",
        "\n",
        "kpcadata_time = timeit.default_timer() - start_time3\n",
        "print(\"Execution time for kPCA data: {:.2f} seconds\".format(kpcadata_time))"
      ],
      "metadata": {
        "id": "7MxJLXX9aNyr"
      },
      "execution_count": null,
      "outputs": []
    },
    {
      "cell_type": "code",
      "source": [
        "# Class-wise accuracy\n",
        "# For validation set\n",
        "class_accuracy_val = []\n",
        "for i in range(len(class_names)):\n",
        "    class_indices_val = np.where(y_val == i)[0]\n",
        "    class_accuracy_val.append(accuracy_score(y_val[class_indices_val], y_val_pred[class_indices_val]))\n",
        "\n",
        "# Print class-wise accuracy on validation set\n",
        "print(\"Class-wise Accuracy on Validation Set:\")\n",
        "for i, class_name in enumerate(class_names):\n",
        "    print(\"{}: {:.2f}%\".format(class_name, class_accuracy_val[i] * 100))\n",
        "\n",
        "# For test set\n",
        "class_accuracy_test = []\n",
        "for i in range(len(class_names)):\n",
        "    class_indices_test = np.where(y_test == i)[0]\n",
        "    class_accuracy_test.append(accuracy_score(y_test[class_indices_test], y_test_pred[class_indices_test]))\n",
        "\n",
        "# Print class-wise accuracy on test set\n",
        "print(\"\\nClass-wise Accuracy on Test Set:\")\n",
        "for i, class_name in enumerate(class_names):\n",
        "    print(\"{}: {:.2f}%\".format(class_name, class_accuracy_test[i] * 100))\n",
        "\n",
        "# Print classification report for validation set\n",
        "print(\"Classification Report for Validation Set:\")\n",
        "print(classification_report(y_val, y_val_pred))\n",
        "\n",
        "# Print classification report for test set\n",
        "print(\"\\nClassification Report for Test Set:\")\n",
        "print(classification_report(y_test, y_test_pred))"
      ],
      "metadata": {
        "id": "BMGs6b3oa3_v"
      },
      "execution_count": null,
      "outputs": []
    },
    {
      "cell_type": "markdown",
      "source": [
        "### 2-D Representation for kPCA data"
      ],
      "metadata": {
        "id": "QCjaSrCXbDfA"
      }
    },
    {
      "cell_type": "code",
      "source": [
        "# 2D Representation of kPCA-transformed Data\n",
        "plt.figure(figsize=(8, 6))\n",
        "plt.scatter(x_train_kpca[:, 0], x_train_kpca[:, 1], c=y_train, cmap='viridis', alpha=0.7)\n",
        "plt.title('2D Representation of kPCA-transformed Data')\n",
        "plt.xlabel('Kernel Component 1')\n",
        "plt.ylabel('Kernel Component 2')\n",
        "plt.colorbar(label='Class')\n",
        "plt.grid(True)\n",
        "plt.show()"
      ],
      "metadata": {
        "id": "N94zXPSubHl-"
      },
      "execution_count": null,
      "outputs": []
    },
    {
      "cell_type": "markdown",
      "source": [
        "### Performing KNN classification on LLE transformed data"
      ],
      "metadata": {
        "id": "h_JhHr06bPxH"
      }
    },
    {
      "cell_type": "code",
      "source": [
        "# 4. KNN classification with LLE\n",
        "\n",
        "# Apply LLE for dimensionality reduction\n",
        "start_time4 = timeit.default_timer()\n",
        "lle = LocallyLinearEmbedding(n_components=227, n_neighbors=20, random_state=42)\n",
        "x_train_lle = lle.fit_transform(x_train)\n",
        "x_val_lle = lle.transform(x_val)\n",
        "x_test_lle = lle.transform(x_test)\n",
        "\n",
        "# Initialize KNN classifier\n",
        "knn = KNeighborsClassifier(n_neighbors=20)\n",
        "\n",
        "# Train the classifier\n",
        "knn.fit(x_train_lle, y_train)\n",
        "\n",
        "# Predict on validation set\n",
        "y_val_pred = knn.predict(x_val_lle)\n",
        "\n",
        "# Calculate accuracy and F1 score on validation set\n",
        "val_accuracy = accuracy_score(y_val, y_val_pred)\n",
        "val_f1_score = f1_score(y_val, y_val_pred, average='macro')\n",
        "print(\"Validation Accuracy: {:.2f}%\".format(val_accuracy * 100))\n",
        "print(\"Validation F1 Score: {:.2f}\".format(val_f1_score))\n",
        "\n",
        "# Predict on test set\n",
        "y_test_pred = knn.predict(x_test_lle)\n",
        "\n",
        "# Calculate accuracy and F1 score on test set\n",
        "test_accuracy = accuracy_score(y_test, y_test_pred)\n",
        "test_f1_score = f1_score(y_test, y_test_pred, average='macro')\n",
        "print(\"Test Accuracy: {:.2f}%\".format(test_accuracy * 100))\n",
        "print(\"Test F1 Score: {:.2f}\".format(test_f1_score))\n",
        "\n",
        "lledata_time = timeit.default_timer() - start_time4\n",
        "print(\"Execution time for LEE data: {:.2f} seconds\".format(lledata_time))"
      ],
      "metadata": {
        "id": "RX2-kTynbPa3"
      },
      "execution_count": null,
      "outputs": []
    },
    {
      "cell_type": "code",
      "source": [
        "# Class-wise accuracy\n",
        "# For validation set\n",
        "class_accuracy_val = []\n",
        "for i in range(len(class_names)):\n",
        "    class_indices_val = np.where(y_val == i)[0]\n",
        "    class_accuracy_val.append(accuracy_score(y_val[class_indices_val], y_val_pred[class_indices_val]))\n",
        "\n",
        "# Print class-wise accuracy on validation set\n",
        "print(\"Class-wise Accuracy on Validation Set:\")\n",
        "for i, class_name in enumerate(class_names):\n",
        "    print(\"{}: {:.2f}%\".format(class_name, class_accuracy_val[i] * 100))\n",
        "\n",
        "# For test set\n",
        "class_accuracy_test = []\n",
        "for i in range(len(class_names)):\n",
        "    class_indices_test = np.where(y_test == i)[0]\n",
        "    class_accuracy_test.append(accuracy_score(y_test[class_indices_test], y_test_pred[class_indices_test]))\n",
        "\n",
        "# Print class-wise accuracy on test set\n",
        "print(\"\\nClass-wise Accuracy on Test Set:\")\n",
        "for i, class_name in enumerate(class_names):\n",
        "    print(\"{}: {:.2f}%\".format(class_name, class_accuracy_test[i] * 100))\n",
        "\n",
        "# Print classification report for validation set\n",
        "print(\"Classification Report for Validation Set:\")\n",
        "print(classification_report(y_val, y_val_pred, target_names=class_names))\n",
        "\n",
        "# Print classification report for test set\n",
        "print(\"Classification Report for Test Set:\")\n",
        "print(classification_report(y_test, y_test_pred, target_names=class_names))\n"
      ],
      "metadata": {
        "id": "ZkkEQrhObgKn"
      },
      "execution_count": null,
      "outputs": []
    },
    {
      "cell_type": "markdown",
      "source": [
        "### 2-D Representation for LLE data"
      ],
      "metadata": {
        "id": "MVTkJL5Gbsdy"
      }
    },
    {
      "cell_type": "code",
      "source": [
        "# 2-D Representation for LLE-transformed data\n",
        "plt.figure(figsize=(8, 6))\n",
        "plt.scatter(x_train_lle[:, 0], x_train_lle[:, 1], c=y_train, cmap='viridis', alpha=0.7)\n",
        "plt.title('2D Representation of LLE-transformed Data')\n",
        "plt.xlabel('LLE Component 1')\n",
        "plt.ylabel('LLE Component 2')\n",
        "plt.colorbar(label='Class')\n",
        "plt.grid(True)\n",
        "plt.show()"
      ],
      "metadata": {
        "id": "2mtM7XJvbrzy"
      },
      "execution_count": null,
      "outputs": []
    }
  ]
}